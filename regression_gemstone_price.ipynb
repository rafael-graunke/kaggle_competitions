{
  "cells": [
    {
      "cell_type": "markdown",
      "id": "9839da71-0e2b-4a60-a6a1-f79caecf8156",
      "metadata": {
        "tags": [],
        "id": "9839da71-0e2b-4a60-a6a1-f79caecf8156"
      },
      "source": [
        "# Regression with a Tabular Gemstone Price Dataset\n",
        "## Aplicando regressão linear para predição de valores de pedras preciosas."
      ]
    },
    {
      "cell_type": "markdown",
      "id": "636ff4fa-81f8-4847-a4f5-a5a83707a454",
      "metadata": {
        "tags": [],
        "id": "636ff4fa-81f8-4847-a4f5-a5a83707a454"
      },
      "source": [
        "### Baixando Dataset Kaggle"
      ]
    },
    {
      "cell_type": "code",
      "execution_count": null,
      "id": "85f6e857-3f33-4447-94b8-24f93a9cbba2",
      "metadata": {
        "id": "85f6e857-3f33-4447-94b8-24f93a9cbba2"
      },
      "outputs": [],
      "source": [
        "!pip install opendatasets"
      ]
    },
    {
      "cell_type": "code",
      "execution_count": null,
      "id": "261c8c1c-7132-4d82-ab56-29565e7054e7",
      "metadata": {
        "id": "261c8c1c-7132-4d82-ab56-29565e7054e7"
      },
      "outputs": [],
      "source": [
        "import opendatasets as od\n",
        "dataset_name = 'competitions/playground-series-s3e8'\n",
        "od.download_kaggle_dataset(dataset_name, 'data')"
      ]
    },
    {
      "cell_type": "markdown",
      "id": "0207a43a-d4bb-4861-b7c2-e5b20ac60c57",
      "metadata": {
        "tags": [],
        "id": "0207a43a-d4bb-4861-b7c2-e5b20ac60c57"
      },
      "source": [
        "### Lendo Dataset e Tratando Dados"
      ]
    },
    {
      "cell_type": "code",
      "execution_count": null,
      "id": "65b3eca1-4bc6-4cb7-9efc-3acbf2013245",
      "metadata": {
        "id": "65b3eca1-4bc6-4cb7-9efc-3acbf2013245"
      },
      "outputs": [],
      "source": [
        "import pandas as pd\n",
        "\n",
        "train_df = pd.read_csv('data/playground-series-s3e8/train.csv', index_col=0)\n",
        "train_df.head()"
      ]
    },
    {
      "cell_type": "markdown",
      "id": "c73b1e9e-836a-485b-b48e-f63b3266ae51",
      "metadata": {
        "id": "c73b1e9e-836a-485b-b48e-f63b3266ae51"
      },
      "source": [
        "É possível verificar que existem algumas entradas de texto a serem tratadas no Dataset.\n",
        "A primeira é a cor, que serve apenas para categorizar sem estabelecer uma ordem entre os dados (variáveis nominais).\n",
        "As outras são a clareza e o corte, categorias que estabelecem uma ordem de precedência, por exemplo, \"IF\" está acima de \"VVS1\" (variáveis ordinal).\n",
        "As variáveis nominais podem ser tratadas utilizado no \"one-hot encoding\", conforme abaixo."
      ]
    },
    {
      "cell_type": "code",
      "execution_count": null,
      "id": "11cc65a8-d373-48be-9e51-a2367820c62a",
      "metadata": {
        "id": "11cc65a8-d373-48be-9e51-a2367820c62a"
      },
      "outputs": [],
      "source": [
        "train_df = pd.get_dummies(train_df, columns=['color'])\n",
        "train_df.head()"
      ]
    },
    {
      "cell_type": "markdown",
      "id": "6f5096df-dfdf-4624-8f9d-12bba47e2504",
      "metadata": {
        "id": "6f5096df-dfdf-4624-8f9d-12bba47e2504"
      },
      "source": [
        "O one-hot encoding funciona criando uma coluna para cada valor único dentre os valores da coluna especificada, sendo seu valor 0 ou 1.\n",
        "Para as variáveis ordinais é possível simplesmente atribuir um valor numérico contínuo."
      ]
    },
    {
      "cell_type": "code",
      "execution_count": null,
      "id": "e29721e1-cd88-4200-8fe6-9ca539b19b52",
      "metadata": {
        "id": "e29721e1-cd88-4200-8fe6-9ca539b19b52"
      },
      "outputs": [],
      "source": [
        "train_df['cut'] = train_df['cut'].astype('category')\n",
        "train_df['cut'] = train_df['cut'].cat.reorder_categories(\n",
        "    ['Premium', 'Ideal', 'Very Good', 'Good', 'Fair'],\n",
        "    ordered=True\n",
        ")\n",
        "train_df['cut'] = train_df['cut'].cat.codes"
      ]
    },
    {
      "cell_type": "code",
      "execution_count": null,
      "id": "91e7e7c3-d699-4299-8512-6702e4930200",
      "metadata": {
        "id": "91e7e7c3-d699-4299-8512-6702e4930200"
      },
      "outputs": [],
      "source": [
        "train_df['clarity'] = train_df['clarity'].astype('category')\n",
        "train_df['clarity'] = train_df['clarity'].cat.reorder_categories(\n",
        "    ['IF', 'VVS1', 'VVS2', 'VS1', 'VS2', 'SI1', 'SI2', 'I1'],\n",
        "    ordered=True\n",
        ")\n",
        "train_df['clarity'] = train_df['clarity'].cat.codes"
      ]
    },
    {
      "cell_type": "code",
      "execution_count": null,
      "id": "c8055b43-58de-4d49-a4ef-929dedae0ef9",
      "metadata": {
        "id": "c8055b43-58de-4d49-a4ef-929dedae0ef9"
      },
      "outputs": [],
      "source": [
        "train_df.head()"
      ]
    },
    {
      "cell_type": "markdown",
      "id": "6dd2abcb-80db-4e42-9959-ac7646775438",
      "metadata": {
        "id": "6dd2abcb-80db-4e42-9959-ac7646775438"
      },
      "source": [
        "### Preparando Dados e Gerando Modelo de Regressão"
      ]
    },
    {
      "cell_type": "markdown",
      "id": "5f1d60b1-b309-4008-a397-4bedbbc876b4",
      "metadata": {
        "id": "5f1d60b1-b309-4008-a397-4bedbbc876b4"
      },
      "source": [
        "Aqui separamos a coluna do target das colunas das features. "
      ]
    },
    {
      "cell_type": "code",
      "execution_count": null,
      "id": "7bf3b248-7015-415e-a8e7-924e25d34235",
      "metadata": {
        "id": "7bf3b248-7015-415e-a8e7-924e25d34235"
      },
      "outputs": [],
      "source": [
        "y = train_df['price']\n",
        "X = train_df[train_df.columns.drop('price')]"
      ]
    },
    {
      "cell_type": "markdown",
      "id": "6ddbd6a5-032a-4047-aecc-5153644cfb2c",
      "metadata": {
        "id": "6ddbd6a5-032a-4047-aecc-5153644cfb2c"
      },
      "source": [
        "Separamos os Datasets acima em 75% para treino e o restante para testarmos a predição."
      ]
    },
    {
      "cell_type": "code",
      "execution_count": null,
      "id": "3a70a940-0e45-4e91-a0c5-cd0fdc3d3e75",
      "metadata": {
        "id": "3a70a940-0e45-4e91-a0c5-cd0fdc3d3e75"
      },
      "outputs": [],
      "source": [
        "from sklearn.model_selection import train_test_split\n",
        "\n",
        "train_X, test_X, train_y, test_y = train_test_split(\n",
        "    X, y, test_size=0.25, random_state=42\n",
        ")"
      ]
    },
    {
      "cell_type": "markdown",
      "id": "80de5f81-aee7-40dd-850d-a5548addaac2",
      "metadata": {
        "id": "80de5f81-aee7-40dd-850d-a5548addaac2"
      },
      "source": [
        "Por fim, importamos o modelo de regressão linear do SciKit-Learn e aplicamos os Datasets de treino. Buscamos o score do modelo gerado utilizando os Datasets de treino."
      ]
    },
    {
      "cell_type": "code",
      "execution_count": null,
      "id": "ef72fdcd-2df1-4e85-aaf6-5bf0efd1f706",
      "metadata": {
        "id": "ef72fdcd-2df1-4e85-aaf6-5bf0efd1f706"
      },
      "outputs": [],
      "source": [
        "from sklearn.linear_model import LinearRegression\n",
        "\n",
        "reg = LinearRegression().fit(train_X, train_y)"
      ]
    },
    {
      "cell_type": "markdown",
      "source": [
        "Obtendo algumas métricas de precisão do modelo."
      ],
      "metadata": {
        "id": "TmFTdwVdgFcl"
      },
      "id": "TmFTdwVdgFcl"
    },
    {
      "cell_type": "code",
      "execution_count": null,
      "id": "63dcd8a9-580c-4680-8f48-999d22d9425b",
      "metadata": {
        "id": "63dcd8a9-580c-4680-8f48-999d22d9425b"
      },
      "outputs": [],
      "source": [
        "from sklearn.metrics import mean_absolute_error, mean_squared_error\n",
        "\n",
        "y_pred = reg.predict(test_X)\n",
        "\n",
        "# Coeficiente de Determinação (R2)\n",
        "r2 = reg.score(X, y)\n",
        "\n",
        "# Erro Médio Absoluto (MAE)\n",
        "mae = mean_absolute_error(test_y, y_pred)\n",
        "\n",
        "# Erro Médio Quadrado\n",
        "mse = mean_squared_error(test_y, y_pred)\n",
        "\n",
        "print(\"Coeficiente de Determinação:\", r2)\n",
        "print(\"Erro Médio Absoluto:\", mae)\n",
        "print(\"Erro Médio Quadrado:\", mse)\n"
      ]
    },
    {
      "cell_type": "markdown",
      "source": [
        "Persistindo modelo treinado."
      ],
      "metadata": {
        "id": "Q2sn1I71tg0J"
      },
      "id": "Q2sn1I71tg0J"
    },
    {
      "cell_type": "code",
      "source": [
        "from joblib import dump\n",
        "\n",
        "dump(reg, 'model.joblib')"
      ],
      "metadata": {
        "id": "qcZc-cDdjo5P"
      },
      "id": "qcZc-cDdjo5P",
      "execution_count": null,
      "outputs": []
    }
  ],
  "metadata": {
    "kernelspec": {
      "display_name": "Python 3 (ipykernel)",
      "language": "python",
      "name": "python3"
    },
    "language_info": {
      "codemirror_mode": {
        "name": "ipython",
        "version": 3
      },
      "file_extension": ".py",
      "mimetype": "text/x-python",
      "name": "python",
      "nbconvert_exporter": "python",
      "pygments_lexer": "ipython3",
      "version": "3.9.13"
    },
    "colab": {
      "provenance": []
    }
  },
  "nbformat": 4,
  "nbformat_minor": 5
}